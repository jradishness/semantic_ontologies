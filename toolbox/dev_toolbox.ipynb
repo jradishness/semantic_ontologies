{
 "cells": [
  {
   "cell_type": "code",
   "execution_count": 2,
   "metadata": {
    "collapsed": true
   },
   "outputs": [],
   "source": [
    "import toolbox"
   ]
  },
  {
   "cell_type": "code",
   "execution_count": 3,
   "metadata": {},
   "outputs": [
    {
     "name": "stdout",
     "output_type": "stream",
     "text": [
      "Marker: '\\\\ref' Text: 'item1'\nMarker: '\\\\t'   Text: 'O        Pedro baixou'\nMarker: '\\\\m'   Text: 'O        Pedro bai   -xou'\nMarker: '\\\\g'   Text: 'the.M.SG Pedro lower -PST.IND.3SG'\nMarker: '\\\\t'   Text: 'a        bola'\nMarker: '\\\\m'   Text: 'a        bola'\nMarker: '\\\\g'   Text: 'the.F.SG ball.F.SG'\nMarker: '\\\\f'   Text: 'Pedro calmed down.'\nMarker: '\\\\l'   Text: 'Pedro lowered the ball.'\n"
     ]
    }
   ],
   "source": [
    "for mkr, text in toolbox.read_toolbox_file(open('example/corpus.txt')):\n",
    "    print('Marker: {0!r:<8}Text: {1!r}'.format(mkr, text))"
   ]
  },
  {
   "cell_type": "code",
   "execution_count": 10,
   "metadata": {},
   "outputs": [
    {
     "name": "stdout",
     "output_type": "stream",
     "text": [
      "[('\\\\id', None), ('\\\\ref', 'item1')]\n('\\\\t', 'O        Pedro baixou')\n('\\\\m', 'O        Pedro bai   -xou')\n('\\\\g', 'the.M.SG Pedro lower -PST.IND.3SG')\n('\\\\t', 'a        bola')\n('\\\\m', 'a        bola')\n('\\\\g', 'the.F.SG ball.F.SG')\n('\\\\f', 'Pedro calmed down.')\n('\\\\l', 'Pedro lowered the ball.')\n"
     ]
    }
   ],
   "source": [
    "### Iterating over records based on keys\n",
    "pairs = toolbox.read_toolbox_file(open('toolbox/example/corpus.txt'))\n",
    "for (context, data) in toolbox.records(pairs, ['\\\\id', '\\\\ref']):\n",
    "    print(sorted(context.items()))\n",
    "    print('\\n'.join(map(repr, data)))"
   ]
  },
  {
   "cell_type": "code",
   "execution_count": 11,
   "metadata": {},
   "outputs": [
    {
     "name": "stdout",
     "output_type": "stream",
     "text": [
      "('\\\\t', 'O        Pedro baixou             a        bola')\n('\\\\m', 'O        Pedro bai   -xou         a        bola')\n('\\\\g', 'the.M.SG Pedro lower -PST.IND.3SG the.F.SG ball.F.SG')\n('\\\\f', 'Pedro calmed down.')\n('\\\\l', 'Pedro lowered the ball.')\n"
     ]
    }
   ],
   "source": [
    "### Normalizing tiers\n",
    "pairs = toolbox.read_toolbox_file(open('toolbox/example/corpus.txt'))\n",
    "records = toolbox.records(pairs, ['\\\\id', '\\\\ref'])\n",
    "rec1 = next(records)\n",
    "for mkr, val in toolbox.normalize_record(rec1[1], ['\\\\t', '\\\\g', '\\\\m']):\n",
    "    print((mkr, val))"
   ]
  },
  {
   "cell_type": "code",
   "execution_count": 12,
   "metadata": {},
   "outputs": [
    {
     "name": "stdout",
     "output_type": "stream",
     "text": [
      "('\\\\t', [('O        Pedro baixou             a        bola', ['O', 'Pedro', 'baixou', 'a', 'bola'])])\n('\\\\m', [('O', ['O']), ('Pedro', ['Pedro']), ('baixou', ['bai', '-xou']), ('a', ['a']), ('bola', ['bola'])])\n('\\\\g', [('O', ['the.M.SG']), ('Pedro', ['Pedro']), ('bai', ['lower']), ('-xou', ['-PST.IND.3SG']), ('a', ['the.F.SG']), ('bola', ['ball.F.SG'])])\n('\\\\f', [(None, ['Pedro calmed down.'])])\n('\\\\l', [(None, ['Pedro lowered the ball.'])])\n"
     ]
    }
   ],
   "source": [
    "### Aligning fields\n",
    "pairs = toolbox.read_toolbox_file(open('toolbox/example/corpus.txt'))\n",
    "records = toolbox.records(pairs, ['\\\\id', '\\\\ref'])\n",
    "rec1 = next(records)\n",
    "normdata = toolbox.normalize_record(rec1[1], ['\\\\t', '\\\\g', '\\\\m'])\n",
    "alignments = {'\\\\m': '\\\\t', '\\\\g': '\\\\m'}\n",
    "for mkr, algns in toolbox.align_fields(normdata, alignments=alignments):\n",
    "    print((mkr, algns))"
   ]
  },
  {
   "cell_type": "code",
   "execution_count": null,
   "metadata": {},
   "outputs": [],
   "source": []
  }
 ],
 "metadata": {
  "kernelspec": {
   "display_name": "Python 2",
   "language": "python",
   "name": "python2"
  },
  "language_info": {
   "codemirror_mode": {
    "name": "ipython",
    "version": 2
   },
   "file_extension": ".py",
   "mimetype": "text/x-python",
   "name": "python",
   "nbconvert_exporter": "python",
   "pygments_lexer": "ipython2",
   "version": "2.7.6"
  }
 },
 "nbformat": 4,
 "nbformat_minor": 0
}
